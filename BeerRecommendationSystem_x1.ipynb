{
 "cells": [
  {
   "cell_type": "code",
   "execution_count": 19,
   "metadata": {
    "collapsed": true
   },
   "outputs": [],
   "source": [
    "import pandas as pd\n",
    "import numpy as np\n",
    "import pylab as pl\n",
    "import os "
   ]
  },
  {
   "cell_type": "code",
   "execution_count": 20,
   "metadata": {
    "collapsed": false
   },
   "outputs": [],
   "source": [
    "os.chdir(r'E:\\Andrey\\Stanford\\PythonClass')\n",
    "df=pd.read_csv(\"beer_reviews.csv\")"
   ]
  },
  {
   "cell_type": "code",
   "execution_count": 21,
   "metadata": {
    "collapsed": true
   },
   "outputs": [],
   "source": [
    "beer_1,beer_2=\"Dale's Pale Ale\",\"Fat Tire Amber Ale\""
   ]
  },
  {
   "cell_type": "code",
   "execution_count": 22,
   "metadata": {
    "collapsed": false
   },
   "outputs": [],
   "source": [
    "beer_1_reviewers=df[df.beer_name==beer_1].review_profilename.unique()\n",
    "beer_2_reviewers=df[df.beer_name==beer_2].review_profilename.unique()\n",
    "common_reviewers=set(beer_1_reviewers).intersection(beer_2_reviewers)\n"
   ]
  },
  {
   "cell_type": "markdown",
   "metadata": {
    "collapsed": false
   },
   "source": [
    "##Beer Recomendation system:\n",
    "### If there is a beer you like and want some recomnedation for a style of beer to try, then the system will do it for you. How does it work?  There are three types of beer A,B,C. If Person 1 likes beer A and C, Person 2 likes beer A and C and You like beer C then: \n",
    "### You will also like beer A and you should be recommeneded beer A. In oredr to understand which beers are simlilar we are going to use \"K nearest neighbors\" approach.  \n",
    "    "
   ]
  },
  {
   "cell_type": "code",
   "execution_count": 23,
   "metadata": {
    "collapsed": false
   },
   "outputs": [
    {
     "data": {
      "text/plain": [
       "1442361            gskitt\n",
       "1444203    savannahbrooks\n",
       "1444401       mtstatebeer\n",
       "1449783       Monkeyknife\n",
       "1450412              dawg\n",
       "Name: review_profilename, dtype: object"
      ]
     },
     "execution_count": 23,
     "metadata": {},
     "output_type": "execute_result"
    }
   ],
   "source": [
    "(df[df.beer_name==beer_1].review_profilename).head()"
   ]
  },
  {
   "cell_type": "markdown",
   "metadata": {
    "collapsed": false
   },
   "source": [
    "### Get unique beer_names in the data"
   ]
  },
  {
   "cell_type": "code",
   "execution_count": 24,
   "metadata": {
    "collapsed": false
   },
   "outputs": [
    {
     "data": {
      "text/plain": [
       "array(['Sausa Weizen', 'Red Moon', 'Black Horse Black Beer', ...,\n",
       "       'Baron Von Weizen', 'Resolution #2', \"The Horseman's Ale\"], dtype=object)"
      ]
     },
     "execution_count": 24,
     "metadata": {},
     "output_type": "execute_result"
    }
   ],
   "source": [
    "df.beer_name.unique()"
   ]
  },
  {
   "cell_type": "markdown",
   "metadata": {
    "collapsed": false
   },
   "source": [
    "### Get the beer reviews for common users for a beer\n"
   ]
  },
  {
   "cell_type": "code",
   "execution_count": 25,
   "metadata": {
    "collapsed": true
   },
   "outputs": [],
   "source": [
    "def get_beer_reviewrs(beer, common_users):\n",
    "    mask=(df.review_profilename.isin(common_users))&(df.beer_name==beer)\n",
    "    reviews=df[mask].sort('review_profilename')\n",
    "    reviews=reviews[reviews.review_profilename.duplicated()==False]\n",
    "    return reviews"
   ]
  },
  {
   "cell_type": "code",
   "execution_count": 31,
   "metadata": {
    "collapsed": false
   },
   "outputs": [],
   "source": [
    "common_users=common_reviewers\n",
    "beer=beer_1\n",
    "mask=(df.review_profilename.isin(common_users)) & (df.beer_name==beer)"
   ]
  },
  {
   "cell_type": "raw",
   "metadata": {},
   "source": []
  },
  {
   "cell_type": "code",
   "execution_count": 32,
   "metadata": {
    "collapsed": false
   },
   "outputs": [],
   "source": [
    "reviews=df[mask].sort('review_profilename')\n"
   ]
  },
  {
   "cell_type": "code",
   "execution_count": 52,
   "metadata": {
    "collapsed": false
   },
   "outputs": [],
   "source": [
    "reviews=reviews[reviews.review_profilename.duplicated()==False]"
   ]
  },
  {
   "cell_type": "code",
   "execution_count": 74,
   "metadata": {
    "collapsed": false
   },
   "outputs": [
    {
     "data": {
      "text/html": [
       "<div>\n",
       "<table border=\"1\" class=\"dataframe\">\n",
       "  <thead>\n",
       "    <tr style=\"text-align: right;\">\n",
       "      <th></th>\n",
       "      <th>brewery_id</th>\n",
       "      <th>brewery_name</th>\n",
       "      <th>review_time</th>\n",
       "      <th>review_overall</th>\n",
       "      <th>review_aroma</th>\n",
       "      <th>review_appearance</th>\n",
       "      <th>review_profilename</th>\n",
       "      <th>beer_style</th>\n",
       "      <th>review_palate</th>\n",
       "      <th>review_taste</th>\n",
       "      <th>beer_name</th>\n",
       "      <th>beer_abv</th>\n",
       "      <th>beer_beerid</th>\n",
       "    </tr>\n",
       "  </thead>\n",
       "  <tbody>\n",
       "    <tr>\n",
       "      <th>1454568</th>\n",
       "      <td>2681</td>\n",
       "      <td>Oskar Blues Grill &amp; Brew</td>\n",
       "      <td>1221154773</td>\n",
       "      <td>3.5</td>\n",
       "      <td>4.0</td>\n",
       "      <td>3.5</td>\n",
       "      <td>ATPete</td>\n",
       "      <td>American Pale Ale (APA)</td>\n",
       "      <td>3.5</td>\n",
       "      <td>3.5</td>\n",
       "      <td>Dale's Pale Ale</td>\n",
       "      <td>6.5</td>\n",
       "      <td>6518</td>\n",
       "    </tr>\n",
       "    <tr>\n",
       "      <th>1453868</th>\n",
       "      <td>2681</td>\n",
       "      <td>Oskar Blues Grill &amp; Brew</td>\n",
       "      <td>1297654968</td>\n",
       "      <td>4.5</td>\n",
       "      <td>4.0</td>\n",
       "      <td>4.5</td>\n",
       "      <td>AdamBear</td>\n",
       "      <td>American Pale Ale (APA)</td>\n",
       "      <td>4.0</td>\n",
       "      <td>4.5</td>\n",
       "      <td>Dale's Pale Ale</td>\n",
       "      <td>6.5</td>\n",
       "      <td>6518</td>\n",
       "    </tr>\n",
       "    <tr>\n",
       "      <th>1453766</th>\n",
       "      <td>2681</td>\n",
       "      <td>Oskar Blues Grill &amp; Brew</td>\n",
       "      <td>1307229120</td>\n",
       "      <td>4.5</td>\n",
       "      <td>4.0</td>\n",
       "      <td>4.0</td>\n",
       "      <td>AlCaponeJunior</td>\n",
       "      <td>American Pale Ale (APA)</td>\n",
       "      <td>4.0</td>\n",
       "      <td>4.5</td>\n",
       "      <td>Dale's Pale Ale</td>\n",
       "      <td>6.5</td>\n",
       "      <td>6518</td>\n",
       "    </tr>\n",
       "    <tr>\n",
       "      <th>1454697</th>\n",
       "      <td>2681</td>\n",
       "      <td>Oskar Blues Grill &amp; Brew</td>\n",
       "      <td>1210781469</td>\n",
       "      <td>4.5</td>\n",
       "      <td>3.5</td>\n",
       "      <td>4.5</td>\n",
       "      <td>AltBock</td>\n",
       "      <td>American Pale Ale (APA)</td>\n",
       "      <td>4.0</td>\n",
       "      <td>4.0</td>\n",
       "      <td>Dale's Pale Ale</td>\n",
       "      <td>6.5</td>\n",
       "      <td>6518</td>\n",
       "    </tr>\n",
       "    <tr>\n",
       "      <th>1454131</th>\n",
       "      <td>2681</td>\n",
       "      <td>Oskar Blues Grill &amp; Brew</td>\n",
       "      <td>1267989965</td>\n",
       "      <td>4.0</td>\n",
       "      <td>4.0</td>\n",
       "      <td>4.0</td>\n",
       "      <td>Andreji</td>\n",
       "      <td>American Pale Ale (APA)</td>\n",
       "      <td>4.0</td>\n",
       "      <td>4.0</td>\n",
       "      <td>Dale's Pale Ale</td>\n",
       "      <td>6.5</td>\n",
       "      <td>6518</td>\n",
       "    </tr>\n",
       "  </tbody>\n",
       "</table>\n",
       "</div>"
      ],
      "text/plain": [
       "         brewery_id              brewery_name  review_time  review_overall  \\\n",
       "1454568        2681  Oskar Blues Grill & Brew   1221154773             3.5   \n",
       "1453868        2681  Oskar Blues Grill & Brew   1297654968             4.5   \n",
       "1453766        2681  Oskar Blues Grill & Brew   1307229120             4.5   \n",
       "1454697        2681  Oskar Blues Grill & Brew   1210781469             4.5   \n",
       "1454131        2681  Oskar Blues Grill & Brew   1267989965             4.0   \n",
       "\n",
       "         review_aroma  review_appearance review_profilename  \\\n",
       "1454568           4.0                3.5             ATPete   \n",
       "1453868           4.0                4.5           AdamBear   \n",
       "1453766           4.0                4.0     AlCaponeJunior   \n",
       "1454697           3.5                4.5            AltBock   \n",
       "1454131           4.0                4.0            Andreji   \n",
       "\n",
       "                      beer_style  review_palate  review_taste  \\\n",
       "1454568  American Pale Ale (APA)            3.5           3.5   \n",
       "1453868  American Pale Ale (APA)            4.0           4.5   \n",
       "1453766  American Pale Ale (APA)            4.0           4.5   \n",
       "1454697  American Pale Ale (APA)            4.0           4.0   \n",
       "1454131  American Pale Ale (APA)            4.0           4.0   \n",
       "\n",
       "               beer_name  beer_abv  beer_beerid  \n",
       "1454568  Dale's Pale Ale       6.5         6518  \n",
       "1453868  Dale's Pale Ale       6.5         6518  \n",
       "1453766  Dale's Pale Ale       6.5         6518  \n",
       "1454697  Dale's Pale Ale       6.5         6518  \n",
       "1454131  Dale's Pale Ale       6.5         6518  "
      ]
     },
     "execution_count": 74,
     "metadata": {},
     "output_type": "execute_result"
    }
   ],
   "source": [
    " (get_beer_reviewrs(beer_1,common_reviewers)).head()"
   ]
  },
  {
   "cell_type": "code",
   "execution_count": 38,
   "metadata": {
    "collapsed": false
   },
   "outputs": [],
   "source": [
    "beer_1_reviews= get_beer_reviewrs(beer_1,common_reviewers)\n",
    "beer_2_reviews= get_beer_reviewrs(beer_2,common_reviewers)\n",
    "ALL_FEATURES=['review_overall','review_aroma','review_palate','review_taste']\n"
   ]
  },
  {
   "cell_type": "code",
   "execution_count": 39,
   "metadata": {
    "collapsed": false
   },
   "outputs": [
    {
     "data": {
      "text/html": [
       "<div>\n",
       "<table border=\"1\" class=\"dataframe\">\n",
       "  <thead>\n",
       "    <tr style=\"text-align: right;\">\n",
       "      <th></th>\n",
       "      <th>beer_name</th>\n",
       "      <th>review_profilename</th>\n",
       "      <th>review_overall</th>\n",
       "      <th>review_aroma</th>\n",
       "      <th>review_palate</th>\n",
       "      <th>review_taste</th>\n",
       "    </tr>\n",
       "  </thead>\n",
       "  <tbody>\n",
       "    <tr>\n",
       "      <th>202456</th>\n",
       "      <td>Fat Tire Amber Ale</td>\n",
       "      <td>ATPete</td>\n",
       "      <td>4.5</td>\n",
       "      <td>4.0</td>\n",
       "      <td>4.0</td>\n",
       "      <td>4.5</td>\n",
       "    </tr>\n",
       "    <tr>\n",
       "      <th>201458</th>\n",
       "      <td>Fat Tire Amber Ale</td>\n",
       "      <td>AdamBear</td>\n",
       "      <td>3.5</td>\n",
       "      <td>2.5</td>\n",
       "      <td>4.5</td>\n",
       "      <td>3.5</td>\n",
       "    </tr>\n",
       "    <tr>\n",
       "      <th>201886</th>\n",
       "      <td>Fat Tire Amber Ale</td>\n",
       "      <td>AlCaponeJunior</td>\n",
       "      <td>2.0</td>\n",
       "      <td>3.0</td>\n",
       "      <td>3.5</td>\n",
       "      <td>3.0</td>\n",
       "    </tr>\n",
       "    <tr>\n",
       "      <th>202481</th>\n",
       "      <td>Fat Tire Amber Ale</td>\n",
       "      <td>AltBock</td>\n",
       "      <td>4.0</td>\n",
       "      <td>3.0</td>\n",
       "      <td>3.0</td>\n",
       "      <td>3.0</td>\n",
       "    </tr>\n",
       "    <tr>\n",
       "      <th>201803</th>\n",
       "      <td>Fat Tire Amber Ale</td>\n",
       "      <td>Andreji</td>\n",
       "      <td>4.0</td>\n",
       "      <td>4.5</td>\n",
       "      <td>4.0</td>\n",
       "      <td>4.0</td>\n",
       "    </tr>\n",
       "  </tbody>\n",
       "</table>\n",
       "</div>"
      ],
      "text/plain": [
       "                 beer_name review_profilename  review_overall  review_aroma  \\\n",
       "202456  Fat Tire Amber Ale             ATPete             4.5           4.0   \n",
       "201458  Fat Tire Amber Ale           AdamBear             3.5           2.5   \n",
       "201886  Fat Tire Amber Ale     AlCaponeJunior             2.0           3.0   \n",
       "202481  Fat Tire Amber Ale            AltBock             4.0           3.0   \n",
       "201803  Fat Tire Amber Ale            Andreji             4.0           4.5   \n",
       "\n",
       "        review_palate  review_taste  \n",
       "202456            4.0           4.5  \n",
       "201458            4.5           3.5  \n",
       "201886            3.5           3.0  \n",
       "202481            3.0           3.0  \n",
       "201803            4.0           4.0  "
      ]
     },
     "execution_count": 39,
     "metadata": {},
     "output_type": "execute_result"
    }
   ],
   "source": [
    "cols=['beer_name','review_profilename','review_overall','review_aroma','review_palate','review_taste']\n",
    "beer_2_reviews[cols].head()\n"
   ]
  },
  {
   "cell_type": "code",
   "execution_count": 40,
   "metadata": {
    "collapsed": false
   },
   "outputs": [],
   "source": [
    "from sklearn.metrics.pairwise import euclidean_distances"
   ]
  },
  {
   "cell_type": "code",
   "execution_count": 41,
   "metadata": {
    "collapsed": true
   },
   "outputs": [],
   "source": [
    "\n",
    "def calculate_similarity(beer1,beer2):\n",
    "    #find common reviewrs\n",
    "    beer_1_reviewers=df[df.beer_name==beer1].review_profilename.unique()\n",
    "    beer_2_reviewers=df[df.beer_name==beer2].review_profilename.unique()\n",
    "    \n",
    "    #find users who reviewed beer1 and beer2  \n",
    "    common_reviewers=set(beer_1_reviewers).intersection(beer_2_reviewers)\n",
    "\n",
    "    #get reviews for beer1 and beer2\n",
    "    beer_1_reviwers=get_beer_reviewrs(beer1,common_reviewers)\n",
    "    beer_2_reviwers=get_beer_reviewrs(beer2,common_reviewers)\n",
    "    dists=[]\n",
    "    #find the euclidean distances between beer1 and beer2 \n",
    "    for f in ALL_FEATURES:\n",
    "        dists.append(euclidean_distances(beer_1_reviwers[f],beer_2_reviwers[f])[0][0])\n",
    "    return dists"
   ]
  },
  {
   "cell_type": "code",
   "execution_count": 42,
   "metadata": {
    "collapsed": false
   },
   "outputs": [
    {
     "name": "stdout",
     "output_type": "stream",
     "text": [
      "review_palate\n"
     ]
    },
    {
     "data": {
      "text/plain": [
       "16.522711641858304"
      ]
     },
     "execution_count": 42,
     "metadata": {},
     "output_type": "execute_result"
    }
   ],
   "source": [
    "f=ALL_FEATURES[2]\n",
    "print(f)\n",
    "euclidean_distances(beer_1_reviews[f],beer_2_reviews[f])[0][0]\n"
   ]
  },
  {
   "cell_type": "code",
   "execution_count": 309,
   "metadata": {
    "collapsed": false
   },
   "outputs": [
    {
     "data": {
      "text/plain": [
       "array([[ 16.52271164]])"
      ]
     },
     "execution_count": 309,
     "metadata": {},
     "output_type": "execute_result"
    }
   ],
   "source": [
    "euclidean_distances(beer_1_reviews[f],beer_2_reviews[f])"
   ]
  },
  {
   "cell_type": "code",
   "execution_count": 310,
   "metadata": {
    "collapsed": false
   },
   "outputs": [],
   "source": [
    "    beer_1_reviwers=df[df.beer_name==beer_1].review_profilename.unique()\n",
    "    beer_2_reviwers=df[df.beer_name==beer_2].review_profilename.unique()\n",
    "    common_reviewers=set(beer_1_reviwers).intersection(beer_2_reviwers)"
   ]
  },
  {
   "cell_type": "code",
   "execution_count": 311,
   "metadata": {
    "collapsed": false
   },
   "outputs": [
    {
     "data": {
      "text/plain": [
       "array(['gskitt', 'savannahbrooks', 'mtstatebeer', ..., 'krausenman',\n",
       "       'MrDonQuixote', 'jondeelee'], dtype=object)"
      ]
     },
     "execution_count": 311,
     "metadata": {},
     "output_type": "execute_result"
    }
   ],
   "source": [
    "beer_1_reviwers"
   ]
  },
  {
   "cell_type": "code",
   "execution_count": 312,
   "metadata": {
    "collapsed": true
   },
   "outputs": [],
   "source": [
    "common_reviewers=set(beer_1_reviwers).intersection(beer_2_reviwers)"
   ]
  },
  {
   "cell_type": "code",
   "execution_count": 313,
   "metadata": {
    "collapsed": false
   },
   "outputs": [
    {
     "data": {
      "text/plain": [
       "[17.656443583009576,\n",
       " 17.449928366615147,\n",
       " 16.522711641858304,\n",
       " 17.599715906798043]"
      ]
     },
     "execution_count": 313,
     "metadata": {},
     "output_type": "execute_result"
    }
   ],
   "source": [
    "calculate_similarity(beer_1,beer_2)"
   ]
  },
  {
   "cell_type": "code",
   "execution_count": null,
   "metadata": {
    "collapsed": false
   },
   "outputs": [],
   "source": []
  },
  {
   "cell_type": "code",
   "execution_count": 315,
   "metadata": {
    "collapsed": false
   },
   "outputs": [
    {
     "data": {
      "text/plain": [
       "[1]"
      ]
     },
     "execution_count": 315,
     "metadata": {},
     "output_type": "execute_result"
    }
   ],
   "source": [
    "list1.append(1)\n",
    "list1"
   ]
  },
  {
   "cell_type": "code",
   "execution_count": 316,
   "metadata": {
    "collapsed": false
   },
   "outputs": [
    {
     "data": {
      "text/plain": [
       "[1, 2]"
      ]
     },
     "execution_count": 316,
     "metadata": {},
     "output_type": "execute_result"
    }
   ],
   "source": [
    "list1.append(2)\n",
    "list1"
   ]
  },
  {
   "cell_type": "code",
   "execution_count": 44,
   "metadata": {
    "collapsed": false
   },
   "outputs": [
    {
     "data": {
      "text/plain": [
       "array(['Sausa Weizen', 'Red Moon', 'Black Horse Black Beer', ...,\n",
       "       'Baron Von Weizen', 'Resolution #2', \"The Horseman's Ale\"], dtype=object)"
      ]
     },
     "execution_count": 44,
     "metadata": {},
     "output_type": "execute_result"
    }
   ],
   "source": [
    "beers_list=df.beer_name.unique()\n",
    "beers_list"
   ]
  },
  {
   "cell_type": "code",
   "execution_count": 45,
   "metadata": {
    "collapsed": false
   },
   "outputs": [],
   "source": [
    "beers=[\"Dale's Pale Ale\",\"Sierra Nevada Pale Ale\",\"Michelob Ultra\",\n",
    "       \"Natural Light\",\"Bud Light\",\"Fat Tire Amber Ale\",\"Coors Light\",\n",
    "       \"Blue Moon Belgian White\",\"60 Minute IPA\",\"Guinness Draught\"]"
   ]
  },
  {
   "cell_type": "code",
   "execution_count": 46,
   "metadata": {
    "collapsed": true
   },
   "outputs": [],
   "source": [
    "def task1(beer1,beers):\n",
    "    #find common reviewrs\n",
    "    empty_list=[]\n",
    "    for i in range(len(beers)):\n",
    "        #print(beers[i])\n",
    "        #print(calculate_similarity(beer1,beers[i]))\n",
    "        empty_list.append(calculate_similarity(beer1,beers[i]))\n",
    "    print empty_list"
   ]
  },
  {
   "cell_type": "code",
   "execution_count": null,
   "metadata": {
    "collapsed": false
   },
   "outputs": [],
   "source": []
  },
  {
   "cell_type": "code",
   "execution_count": 47,
   "metadata": {
    "collapsed": false
   },
   "outputs": [
    {
     "data": {
      "text/plain": [
       "('Sierra Nevada Pale Ale', \"Dale's Pale Ale\", 'Blue Moon Belgian White')"
      ]
     },
     "execution_count": 47,
     "metadata": {},
     "output_type": "execute_result"
    }
   ],
   "source": [
    "beers[1],beers[0],beers[7]"
   ]
  },
  {
   "cell_type": "code",
   "execution_count": 48,
   "metadata": {
    "collapsed": false
   },
   "outputs": [
    {
     "data": {
      "text/plain": [
       "[17.832554500127006, 17.38533865071371, 16.568041525780892, 16.61324772583615]"
      ]
     },
     "execution_count": 48,
     "metadata": {},
     "output_type": "execute_result"
    }
   ],
   "source": [
    "calculate_similarity(beer_1,beers[8])"
   ]
  },
  {
   "cell_type": "code",
   "execution_count": 49,
   "metadata": {
    "collapsed": false,
    "scrolled": true
   },
   "outputs": [
    {
     "data": {
      "text/plain": [
       "[1.5, 0.5, 1.5, 1.5]"
      ]
     },
     "execution_count": 49,
     "metadata": {},
     "output_type": "execute_result"
    }
   ],
   "source": [
    "calculate_similarity(\"Sausa Weizen\",\"Red Moon\")"
   ]
  },
  {
   "cell_type": "code",
   "execution_count": 52,
   "metadata": {
    "collapsed": false
   },
   "outputs": [
    {
     "name": "stdout",
     "output_type": "stream",
     "text": [
      "[[0.0, 0.0, 0.0, 0.0], [18.553975315279473, 15.771810295587505, 15.748015748023622, 16.201851746019649], [28.626910416599273, 30.504098085339287, 29.841246622753548, 31.519835024948971], [23.021728866442675, 25.865034312755125, 23.606143268225754, 26.186828750346997], [38.147739120424951, 40.574006457336694, 38.298172280149352, 41.590263283610021], [17.656443583009576, 17.449928366615147, 16.522711641858304, 17.599715906798043], [33.933759001914304, 38.275318418009277, 35.972211497209898, 38.584323241440948], [19.924858845171276, 18.953891421024867, 19.059118552545918, 20.790622886291789], [17.832554500127006, 17.38533865071371, 16.568041525780892, 16.61324772583615], [23.059705115200412, 24.305349205473266, 24.197107265125723, 24.964975465639856]]\n"
     ]
    }
   ],
   "source": [
    "task1(beers[0],beers)"
   ]
  },
  {
   "cell_type": "markdown",
   "metadata": {
    "collapsed": false
   },
   "source": [
    "## Find all euclidean distances for earch of beer pairs in beers list:\n",
    "\n"
   ]
  },
  {
   "cell_type": "code",
   "execution_count": 61,
   "metadata": {
    "collapsed": false
   },
   "outputs": [
    {
     "data": {
      "text/html": [
       "<div>\n",
       "<table border=\"1\" class=\"dataframe\">\n",
       "  <thead>\n",
       "    <tr style=\"text-align: right;\">\n",
       "      <th></th>\n",
       "      <th>beer1</th>\n",
       "      <th>beer2</th>\n",
       "      <th>overall_dist</th>\n",
       "      <th>aroma_dist</th>\n",
       "      <th>palate_dist</th>\n",
       "      <th>taste_dist</th>\n",
       "    </tr>\n",
       "  </thead>\n",
       "  <tbody>\n",
       "    <tr>\n",
       "      <th>0</th>\n",
       "      <td>Dale's Pale Ale</td>\n",
       "      <td>Sierra Nevada Pale Ale</td>\n",
       "      <td>18.553975</td>\n",
       "      <td>15.771810</td>\n",
       "      <td>15.748016</td>\n",
       "      <td>16.201852</td>\n",
       "    </tr>\n",
       "    <tr>\n",
       "      <th>1</th>\n",
       "      <td>Dale's Pale Ale</td>\n",
       "      <td>Michelob Ultra</td>\n",
       "      <td>28.626910</td>\n",
       "      <td>30.504098</td>\n",
       "      <td>29.841247</td>\n",
       "      <td>31.519835</td>\n",
       "    </tr>\n",
       "    <tr>\n",
       "      <th>2</th>\n",
       "      <td>Dale's Pale Ale</td>\n",
       "      <td>Natural Light</td>\n",
       "      <td>23.021729</td>\n",
       "      <td>25.865034</td>\n",
       "      <td>23.606143</td>\n",
       "      <td>26.186829</td>\n",
       "    </tr>\n",
       "    <tr>\n",
       "      <th>3</th>\n",
       "      <td>Dale's Pale Ale</td>\n",
       "      <td>Bud Light</td>\n",
       "      <td>38.147739</td>\n",
       "      <td>40.574006</td>\n",
       "      <td>38.298172</td>\n",
       "      <td>41.590263</td>\n",
       "    </tr>\n",
       "    <tr>\n",
       "      <th>4</th>\n",
       "      <td>Dale's Pale Ale</td>\n",
       "      <td>Fat Tire Amber Ale</td>\n",
       "      <td>17.656444</td>\n",
       "      <td>17.449928</td>\n",
       "      <td>16.522712</td>\n",
       "      <td>17.599716</td>\n",
       "    </tr>\n",
       "  </tbody>\n",
       "</table>\n",
       "</div>"
      ],
      "text/plain": [
       "             beer1                   beer2  overall_dist  aroma_dist  \\\n",
       "0  Dale's Pale Ale  Sierra Nevada Pale Ale     18.553975   15.771810   \n",
       "1  Dale's Pale Ale          Michelob Ultra     28.626910   30.504098   \n",
       "2  Dale's Pale Ale           Natural Light     23.021729   25.865034   \n",
       "3  Dale's Pale Ale               Bud Light     38.147739   40.574006   \n",
       "4  Dale's Pale Ale      Fat Tire Amber Ale     17.656444   17.449928   \n",
       "\n",
       "   palate_dist  taste_dist  \n",
       "0    15.748016   16.201852  \n",
       "1    29.841247   31.519835  \n",
       "2    23.606143   26.186829  \n",
       "3    38.298172   41.590263  \n",
       "4    16.522712   17.599716  "
      ]
     },
     "execution_count": 61,
     "metadata": {},
     "output_type": "execute_result"
    }
   ],
   "source": [
    "def task2(beers):\n",
    "    #find common reviewrs\n",
    "    simple_list=[]\n",
    "    for beer1 in beers:\n",
    "        #print(beer1)\n",
    "        for beer2 in beers:\n",
    "            #print(beer1+'-'+beer2)\n",
    "            if beer1!=beer2:\n",
    "                row=[beer1,beer2]+calculate_similarity(beer1,beer2)\n",
    "                #print(row)\n",
    "                #print(\"\")\n",
    "                simple_list.append(row)\n",
    "                \n",
    "    return(simple_list)\n",
    "simple_distances=task2(beers)\n",
    "simple_distances\n",
    "cols=[\"beer1\",\"beer2\",\"overall_dist\",\"aroma_dist\",\"palate_dist\",\"taste_dist\"]\n",
    "simple_distances=pd.DataFrame(simple_distances,columns=cols)\n",
    "simple_distances.head()\n"
   ]
  },
  {
   "cell_type": "markdown",
   "metadata": {
    "collapsed": false
   },
   "source": [
    "###Weights are user inputs. As a person asking for recommendation, if I prefer to value taste over aroma, I will give higher weight to taste (less value of weight means more importance). This way the recommendation will be biased towards taste more than aroma.\n"
   ]
  },
  {
   "cell_type": "code",
   "execution_count": 60,
   "metadata": {
    "collapsed": false
   },
   "outputs": [],
   "source": [
    "def calc_distance(dist,beer1,beer2,weights):\n",
    "    mask=(dists.beer1==beer1)&(dists.beer2==beer2)\n",
    "    row=dists[mask]\n",
    "    row=row[['overall_dist','aroma_dist','palate_dist','taste_dist']]\n",
    "    dist=weights*row\n",
    "    return dist.sum(axis=1).tolist()[0]  \n"
   ]
  },
  {
   "cell_type": "code",
   "execution_count": 62,
   "metadata": {
    "collapsed": false
   },
   "outputs": [],
   "source": [
    "weights=[2,1,1,1]\n",
    "dists=simple_distances\n",
    "beer1=beer_1\n",
    "beer2=beer_2\n"
   ]
  },
  {
   "cell_type": "code",
   "execution_count": 63,
   "metadata": {
    "collapsed": false,
    "scrolled": true
   },
   "outputs": [
    {
     "data": {
      "text/html": [
       "<div>\n",
       "<table border=\"1\" class=\"dataframe\">\n",
       "  <thead>\n",
       "    <tr style=\"text-align: right;\">\n",
       "      <th></th>\n",
       "      <th>overall_dist</th>\n",
       "      <th>aroma_dist</th>\n",
       "      <th>palate_dist</th>\n",
       "      <th>taste_dist</th>\n",
       "    </tr>\n",
       "  </thead>\n",
       "  <tbody>\n",
       "    <tr>\n",
       "      <th>4</th>\n",
       "      <td>17.656444</td>\n",
       "      <td>17.449928</td>\n",
       "      <td>16.522712</td>\n",
       "      <td>17.599716</td>\n",
       "    </tr>\n",
       "  </tbody>\n",
       "</table>\n",
       "</div>"
      ],
      "text/plain": [
       "   overall_dist  aroma_dist  palate_dist  taste_dist\n",
       "4     17.656444   17.449928    16.522712   17.599716"
      ]
     },
     "execution_count": 63,
     "metadata": {},
     "output_type": "execute_result"
    }
   ],
   "source": [
    "mask=(dists.beer1==beer1)&(dists.beer2==beer2)\n",
    "row=dists[mask]\n",
    "row=row[['overall_dist','aroma_dist','palate_dist','taste_dist']]\n",
    "dist=weights*row\n",
    "row.head()"
   ]
  },
  {
   "cell_type": "markdown",
   "metadata": {
    "collapsed": false
   },
   "source": [
    "### The final weighted values of euclidean distances calculated for each pair of the beer\n"
   ]
  },
  {
   "cell_type": "code",
   "execution_count": 64,
   "metadata": {
    "collapsed": false
   },
   "outputs": [
    {
     "data": {
      "text/html": [
       "<div>\n",
       "<table border=\"1\" class=\"dataframe\">\n",
       "  <thead>\n",
       "    <tr style=\"text-align: right;\">\n",
       "      <th></th>\n",
       "      <th>overall_dist</th>\n",
       "      <th>aroma_dist</th>\n",
       "      <th>palate_dist</th>\n",
       "      <th>taste_dist</th>\n",
       "    </tr>\n",
       "  </thead>\n",
       "  <tbody>\n",
       "    <tr>\n",
       "      <th>4</th>\n",
       "      <td>35.312887</td>\n",
       "      <td>17.449928</td>\n",
       "      <td>16.522712</td>\n",
       "      <td>17.599716</td>\n",
       "    </tr>\n",
       "  </tbody>\n",
       "</table>\n",
       "</div>"
      ],
      "text/plain": [
       "   overall_dist  aroma_dist  palate_dist  taste_dist\n",
       "4     35.312887   17.449928    16.522712   17.599716"
      ]
     },
     "execution_count": 64,
     "metadata": {},
     "output_type": "execute_result"
    }
   ],
   "source": [
    "dist.head()\n"
   ]
  },
  {
   "cell_type": "code",
   "execution_count": 65,
   "metadata": {
    "collapsed": false
   },
   "outputs": [
    {
     "data": {
      "text/plain": [
       "86.885243081290639"
      ]
     },
     "execution_count": 65,
     "metadata": {},
     "output_type": "execute_result"
    }
   ],
   "source": [
    "dist.sum(axis=1).tolist()[0]"
   ]
  },
  {
   "cell_type": "code",
   "execution_count": 66,
   "metadata": {
    "collapsed": false
   },
   "outputs": [
    {
     "data": {
      "text/plain": [
       "86.885243081290639"
      ]
     },
     "execution_count": 66,
     "metadata": {},
     "output_type": "execute_result"
    }
   ],
   "source": [
    "calc_distance(simple_distances,\"Fat Tire Amber Ale\",\"Dale's Pale Ale\",weights)\n"
   ]
  },
  {
   "cell_type": "code",
   "execution_count": 67,
   "metadata": {
    "collapsed": false
   },
   "outputs": [
    {
     "data": {
      "text/plain": [
       "153.00571860654327"
      ]
     },
     "execution_count": 67,
     "metadata": {},
     "output_type": "execute_result"
    }
   ],
   "source": [
    "calc_distance(simple_distances,\"Fat Tire Amber Ale\",\"Michelob Ultra\",weights)"
   ]
  },
  {
   "cell_type": "markdown",
   "metadata": {
    "collapsed": false
   },
   "source": [
    "### Let's make prediction for person having \"Coors Light\" beer\n"
   ]
  },
  {
   "cell_type": "code",
   "execution_count": 68,
   "metadata": {
    "collapsed": false
   },
   "outputs": [],
   "source": [
    "my_beer=\"Coors Light\"\n",
    "result=[]\n",
    "for b in beers:\n",
    "    if my_beer!=b:\n",
    "        result.append((my_beer,b,calc_distance(simple_distances,my_beer,b,weights)))\n",
    "        "
   ]
  },
  {
   "cell_type": "markdown",
   "metadata": {
    "collapsed": false
   },
   "source": [
    "### The sorted list of sorted beers with clalculated euclidean distances"
   ]
  },
  {
   "cell_type": "code",
   "execution_count": 70,
   "metadata": {
    "collapsed": false,
    "scrolled": true
   },
   "outputs": [
    {
     "data": {
      "text/plain": [
       "[('Coors Light', 'Natural Light', 70.483724369544859),\n",
       " ('Coors Light', 'Michelob Ultra', 71.312866260028784),\n",
       " ('Coors Light', 'Bud Light', 101.35815659584495),\n",
       " ('Coors Light', 'Blue Moon Belgian White', 174.68407232789718),\n",
       " ('Coors Light', 'Fat Tire Amber Ale', 175.74577705697465),\n",
       " ('Coors Light', \"Dale's Pale Ale\", 180.69937116048874),\n",
       " ('Coors Light', 'Guinness Draught', 204.99494753154124),\n",
       " ('Coors Light', '60 Minute IPA', 233.68501559769081),\n",
       " ('Coors Light', 'Sierra Nevada Pale Ale', 255.00673514359349)]"
      ]
     },
     "execution_count": 70,
     "metadata": {},
     "output_type": "execute_result"
    }
   ],
   "source": [
    "sorted(result,key=lambda x:x[2])"
   ]
  },
  {
   "cell_type": "markdown",
   "metadata": {
    "collapsed": false
   },
   "source": [
    "### The \"Natural Light\" beer should be recomended for a person who liked \"Coors Light \", based on the histirical data.\n"
   ]
  },
  {
   "cell_type": "code",
   "execution_count": 73,
   "metadata": {
    "collapsed": false
   },
   "outputs": [
    {
     "data": {
      "text/plain": [
       "'Natural Light'"
      ]
     },
     "execution_count": 73,
     "metadata": {},
     "output_type": "execute_result"
    }
   ],
   "source": [
    "sorted(result,key=lambda x:x[2])[0][1]"
   ]
  },
  {
   "cell_type": "code",
   "execution_count": null,
   "metadata": {
    "collapsed": true
   },
   "outputs": [],
   "source": []
  }
 ],
 "metadata": {
  "kernelspec": {
   "display_name": "Python 2",
   "language": "python",
   "name": "python2"
  },
  "language_info": {
   "codemirror_mode": {
    "name": "ipython",
    "version": 2
   },
   "file_extension": ".py",
   "mimetype": "text/x-python",
   "name": "python",
   "nbconvert_exporter": "python",
   "pygments_lexer": "ipython2",
   "version": "2.7.10"
  }
 },
 "nbformat": 4,
 "nbformat_minor": 0
}
